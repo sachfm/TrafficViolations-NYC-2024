{
 "cells": [
  {
   "cell_type": "code",
   "execution_count": 21,
   "id": "d7c437b0-7d28-4eb6-b2e4-b4d238965369",
   "metadata": {},
   "outputs": [],
   "source": [
    "# Load library\n",
    "import pandas as pd"
   ]
  },
  {
   "cell_type": "code",
   "execution_count": 22,
   "id": "633fff86-fe26-4170-8359-c9b8d08460f9",
   "metadata": {},
   "outputs": [
    {
     "data": {
      "text/html": [
       "<div>\n",
       "<style scoped>\n",
       "    .dataframe tbody tr th:only-of-type {\n",
       "        vertical-align: middle;\n",
       "    }\n",
       "\n",
       "    .dataframe tbody tr th {\n",
       "        vertical-align: top;\n",
       "    }\n",
       "\n",
       "    .dataframe thead th {\n",
       "        text-align: right;\n",
       "    }\n",
       "</style>\n",
       "<table border=\"1\" class=\"dataframe\">\n",
       "  <thead>\n",
       "    <tr style=\"text-align: right;\">\n",
       "      <th></th>\n",
       "      <th>Plate</th>\n",
       "      <th>State</th>\n",
       "      <th>License Type</th>\n",
       "      <th>Summons Number</th>\n",
       "      <th>Issue Date</th>\n",
       "      <th>Violation Time</th>\n",
       "      <th>Violation</th>\n",
       "      <th>Fine Amount</th>\n",
       "      <th>Amount Due</th>\n",
       "      <th>Precinct</th>\n",
       "      <th>County</th>\n",
       "      <th>Issuing Agency</th>\n",
       "    </tr>\n",
       "  </thead>\n",
       "  <tbody>\n",
       "    <tr>\n",
       "      <th>0</th>\n",
       "      <td>T626964C</td>\n",
       "      <td>NY</td>\n",
       "      <td>OMT</td>\n",
       "      <td>5137042444</td>\n",
       "      <td>09/08/2024</td>\n",
       "      <td>04:10P</td>\n",
       "      <td>FAILURE TO STOP AT RED LIGHT</td>\n",
       "      <td>50.0</td>\n",
       "      <td>0.0</td>\n",
       "      <td>0</td>\n",
       "      <td>QN</td>\n",
       "      <td>DEPARTMENT OF TRANSPORTATION</td>\n",
       "    </tr>\n",
       "    <tr>\n",
       "      <th>1</th>\n",
       "      <td>LDA5100</td>\n",
       "      <td>NY</td>\n",
       "      <td>PAS</td>\n",
       "      <td>4882492696</td>\n",
       "      <td>01/22/2024</td>\n",
       "      <td>03:35P</td>\n",
       "      <td>PHTO SCHOOL ZN SPEED VIOLATION</td>\n",
       "      <td>50.0</td>\n",
       "      <td>0.0</td>\n",
       "      <td>0</td>\n",
       "      <td>ST</td>\n",
       "      <td>DEPARTMENT OF TRANSPORTATION</td>\n",
       "    </tr>\n",
       "    <tr>\n",
       "      <th>2</th>\n",
       "      <td>KVW2980</td>\n",
       "      <td>NY</td>\n",
       "      <td>PAS</td>\n",
       "      <td>5137042699</td>\n",
       "      <td>09/08/2024</td>\n",
       "      <td>04:18P</td>\n",
       "      <td>FAILURE TO STOP AT RED LIGHT</td>\n",
       "      <td>50.0</td>\n",
       "      <td>0.0</td>\n",
       "      <td>0</td>\n",
       "      <td>ST</td>\n",
       "      <td>DEPARTMENT OF TRANSPORTATION</td>\n",
       "    </tr>\n",
       "    <tr>\n",
       "      <th>3</th>\n",
       "      <td>KZH8222</td>\n",
       "      <td>NY</td>\n",
       "      <td>PAS</td>\n",
       "      <td>4882495697</td>\n",
       "      <td>01/22/2024</td>\n",
       "      <td>04:44P</td>\n",
       "      <td>PHTO SCHOOL ZN SPEED VIOLATION</td>\n",
       "      <td>50.0</td>\n",
       "      <td>0.0</td>\n",
       "      <td>0</td>\n",
       "      <td>QN</td>\n",
       "      <td>DEPARTMENT OF TRANSPORTATION</td>\n",
       "    </tr>\n",
       "    <tr>\n",
       "      <th>4</th>\n",
       "      <td>MHB1068</td>\n",
       "      <td>PA</td>\n",
       "      <td>PAS</td>\n",
       "      <td>5137043473</td>\n",
       "      <td>09/08/2024</td>\n",
       "      <td>04:57P</td>\n",
       "      <td>FAILURE TO STOP AT RED LIGHT</td>\n",
       "      <td>50.0</td>\n",
       "      <td>0.0</td>\n",
       "      <td>0</td>\n",
       "      <td>BK</td>\n",
       "      <td>DEPARTMENT OF TRANSPORTATION</td>\n",
       "    </tr>\n",
       "  </tbody>\n",
       "</table>\n",
       "</div>"
      ],
      "text/plain": [
       "      Plate State License Type  Summons Number  Issue Date Violation Time  \\\n",
       "0  T626964C    NY          OMT      5137042444  09/08/2024         04:10P   \n",
       "1   LDA5100    NY          PAS      4882492696  01/22/2024         03:35P   \n",
       "2   KVW2980    NY          PAS      5137042699  09/08/2024         04:18P   \n",
       "3   KZH8222    NY          PAS      4882495697  01/22/2024         04:44P   \n",
       "4   MHB1068    PA          PAS      5137043473  09/08/2024         04:57P   \n",
       "\n",
       "                        Violation  Fine Amount  Amount Due  Precinct County  \\\n",
       "0    FAILURE TO STOP AT RED LIGHT         50.0         0.0         0     QN   \n",
       "1  PHTO SCHOOL ZN SPEED VIOLATION         50.0         0.0         0     ST   \n",
       "2    FAILURE TO STOP AT RED LIGHT         50.0         0.0         0     ST   \n",
       "3  PHTO SCHOOL ZN SPEED VIOLATION         50.0         0.0         0     QN   \n",
       "4    FAILURE TO STOP AT RED LIGHT         50.0         0.0         0     BK   \n",
       "\n",
       "                 Issuing Agency  \n",
       "0  DEPARTMENT OF TRANSPORTATION  \n",
       "1  DEPARTMENT OF TRANSPORTATION  \n",
       "2  DEPARTMENT OF TRANSPORTATION  \n",
       "3  DEPARTMENT OF TRANSPORTATION  \n",
       "4  DEPARTMENT OF TRANSPORTATION  "
      ]
     },
     "execution_count": 22,
     "metadata": {},
     "output_type": "execute_result"
    }
   ],
   "source": [
    "# Load dataset and save memory, improve speed\n",
    "\n",
    "# select columns to use\n",
    "cols_to_use = [\"Summons Number\", \"Plate\", \"State\", \"License Type\", \"Issue Date\", \"Violation Time\", \"Violation\", \"Fine Amount\", \"Amount Due\", \"Precinct\", \"County\", \"Issuing Agency\"]\n",
    "\n",
    "# input data type map\n",
    "dtype_map = {\n",
    "    \"Summons Number\": \"int64\",\n",
    "    \"Plate\": \"category\",\n",
    "    \"State\": \"category\",\n",
    "    \"License Type\": \"category\",\n",
    "    \"Violation Time\": \"string\",\n",
    "    \"Violation\": \"category\",\n",
    "    \"Fine Amount\": \"float32\",\n",
    "    \"Amount Due\": \"float32\",\n",
    "    \"Precinct\": \"int64\",\n",
    "    \"County\": \"category\",\n",
    "    \"Issuing Agency\": \"category\"\n",
    "    # do not include 'Issue Date' here - included in parse_dates command\n",
    "}\n",
    "\n",
    "# Load the CSV using a relative path\n",
    "df = pd.read_csv(\"data/Open_Parking_and_Camera_Violations_2024.csv\",\n",
    "                 usecols=cols_to_use,\n",
    "                 dtype=dtype_map,\n",
    "                 low_memory=False,\n",
    "                 parse_dates=[\"Issue Date\"],\n",
    "                 dayfirst=False  # important if format is MM/DD/YYYY)\n",
    "                )\n",
    "\n",
    "# Preview the first few rows\n",
    "df.head()"
   ]
  },
  {
   "cell_type": "code",
   "execution_count": 23,
   "id": "61cd30bb-66c6-4638-9fd3-6d447f42fa28",
   "metadata": {},
   "outputs": [
    {
     "name": "stdout",
     "output_type": "stream",
     "text": [
      "<class 'pandas.core.frame.DataFrame'>\n",
      "RangeIndex: 16314089 entries, 0 to 16314088\n",
      "Data columns (total 12 columns):\n",
      " #   Column          Dtype   \n",
      "---  ------          -----   \n",
      " 0   Plate           category\n",
      " 1   State           category\n",
      " 2   License Type    category\n",
      " 3   Summons Number  int64   \n",
      " 4   Issue Date      object  \n",
      " 5   Violation Time  string  \n",
      " 6   Violation       category\n",
      " 7   Fine Amount     float32 \n",
      " 8   Amount Due      float32 \n",
      " 9   Precinct        int64   \n",
      " 10  County          category\n",
      " 11  Issuing Agency  category\n",
      "dtypes: category(6), float32(2), int64(2), object(1), string(1)\n",
      "memory usage: 922.1+ MB\n"
     ]
    }
   ],
   "source": [
    "# Get info on data\n",
    "df.info()"
   ]
  },
  {
   "cell_type": "markdown",
   "id": "5a22c2f8-a429-4f54-aee9-664c1d33ceba",
   "metadata": {},
   "source": [
    "## Heatmap"
   ]
  },
  {
   "cell_type": "code",
   "execution_count": 25,
   "id": "6df5655b-6b86-4aca-85b2-8c4392ed7ec0",
   "metadata": {},
   "outputs": [
    {
     "ename": "AttributeError",
     "evalue": "Can only use .dt accessor with datetimelike values",
     "output_type": "error",
     "traceback": [
      "\u001b[0;31m---------------------------------------------------------------------------\u001b[0m",
      "\u001b[0;31mAttributeError\u001b[0m                            Traceback (most recent call last)",
      "Cell \u001b[0;32mIn[25], line 6\u001b[0m\n\u001b[1;32m      3\u001b[0m \u001b[38;5;28;01mimport\u001b[39;00m \u001b[38;5;21;01mmatplotlib\u001b[39;00m\u001b[38;5;21;01m.\u001b[39;00m\u001b[38;5;21;01mpyplot\u001b[39;00m \u001b[38;5;28;01mas\u001b[39;00m \u001b[38;5;21;01mplt\u001b[39;00m\n\u001b[1;32m      5\u001b[0m \u001b[38;5;66;03m# Step 1: Parse 'Issue Date' and extract weekday name\u001b[39;00m\n\u001b[0;32m----> 6\u001b[0m df[\u001b[38;5;124m\"\u001b[39m\u001b[38;5;124mWeekday\u001b[39m\u001b[38;5;124m\"\u001b[39m] \u001b[38;5;241m=\u001b[39m df[\u001b[38;5;124m\"\u001b[39m\u001b[38;5;124mIssue Date\u001b[39m\u001b[38;5;124m\"\u001b[39m]\u001b[38;5;241m.\u001b[39mdt\u001b[38;5;241m.\u001b[39mday_name()\n\u001b[1;32m      8\u001b[0m \u001b[38;5;66;03m# Step 2: Clean and parse 'Violation Time' into hour\u001b[39;00m\n\u001b[1;32m      9\u001b[0m df[\u001b[38;5;124m\"\u001b[39m\u001b[38;5;124mViolation Time Clean\u001b[39m\u001b[38;5;124m\"\u001b[39m] \u001b[38;5;241m=\u001b[39m df[\u001b[38;5;124m\"\u001b[39m\u001b[38;5;124mViolation Time\u001b[39m\u001b[38;5;124m\"\u001b[39m]\u001b[38;5;241m.\u001b[39mstr\u001b[38;5;241m.\u001b[39mstrip()\u001b[38;5;241m.\u001b[39mstr\u001b[38;5;241m.\u001b[39mupper()\n",
      "File \u001b[0;32m/opt/anaconda3/lib/python3.12/site-packages/pandas/core/generic.py:6299\u001b[0m, in \u001b[0;36mNDFrame.__getattr__\u001b[0;34m(self, name)\u001b[0m\n\u001b[1;32m   6292\u001b[0m \u001b[38;5;28;01mif\u001b[39;00m (\n\u001b[1;32m   6293\u001b[0m     name \u001b[38;5;129;01mnot\u001b[39;00m \u001b[38;5;129;01min\u001b[39;00m \u001b[38;5;28mself\u001b[39m\u001b[38;5;241m.\u001b[39m_internal_names_set\n\u001b[1;32m   6294\u001b[0m     \u001b[38;5;129;01mand\u001b[39;00m name \u001b[38;5;129;01mnot\u001b[39;00m \u001b[38;5;129;01min\u001b[39;00m \u001b[38;5;28mself\u001b[39m\u001b[38;5;241m.\u001b[39m_metadata\n\u001b[1;32m   6295\u001b[0m     \u001b[38;5;129;01mand\u001b[39;00m name \u001b[38;5;129;01mnot\u001b[39;00m \u001b[38;5;129;01min\u001b[39;00m \u001b[38;5;28mself\u001b[39m\u001b[38;5;241m.\u001b[39m_accessors\n\u001b[1;32m   6296\u001b[0m     \u001b[38;5;129;01mand\u001b[39;00m \u001b[38;5;28mself\u001b[39m\u001b[38;5;241m.\u001b[39m_info_axis\u001b[38;5;241m.\u001b[39m_can_hold_identifiers_and_holds_name(name)\n\u001b[1;32m   6297\u001b[0m ):\n\u001b[1;32m   6298\u001b[0m     \u001b[38;5;28;01mreturn\u001b[39;00m \u001b[38;5;28mself\u001b[39m[name]\n\u001b[0;32m-> 6299\u001b[0m \u001b[38;5;28;01mreturn\u001b[39;00m \u001b[38;5;28mobject\u001b[39m\u001b[38;5;241m.\u001b[39m\u001b[38;5;21m__getattribute__\u001b[39m(\u001b[38;5;28mself\u001b[39m, name)\n",
      "File \u001b[0;32m/opt/anaconda3/lib/python3.12/site-packages/pandas/core/accessor.py:224\u001b[0m, in \u001b[0;36mCachedAccessor.__get__\u001b[0;34m(self, obj, cls)\u001b[0m\n\u001b[1;32m    221\u001b[0m \u001b[38;5;28;01mif\u001b[39;00m obj \u001b[38;5;129;01mis\u001b[39;00m \u001b[38;5;28;01mNone\u001b[39;00m:\n\u001b[1;32m    222\u001b[0m     \u001b[38;5;66;03m# we're accessing the attribute of the class, i.e., Dataset.geo\u001b[39;00m\n\u001b[1;32m    223\u001b[0m     \u001b[38;5;28;01mreturn\u001b[39;00m \u001b[38;5;28mself\u001b[39m\u001b[38;5;241m.\u001b[39m_accessor\n\u001b[0;32m--> 224\u001b[0m accessor_obj \u001b[38;5;241m=\u001b[39m \u001b[38;5;28mself\u001b[39m\u001b[38;5;241m.\u001b[39m_accessor(obj)\n\u001b[1;32m    225\u001b[0m \u001b[38;5;66;03m# Replace the property with the accessor object. Inspired by:\u001b[39;00m\n\u001b[1;32m    226\u001b[0m \u001b[38;5;66;03m# https://www.pydanny.com/cached-property.html\u001b[39;00m\n\u001b[1;32m    227\u001b[0m \u001b[38;5;66;03m# We need to use object.__setattr__ because we overwrite __setattr__ on\u001b[39;00m\n\u001b[1;32m    228\u001b[0m \u001b[38;5;66;03m# NDFrame\u001b[39;00m\n\u001b[1;32m    229\u001b[0m \u001b[38;5;28mobject\u001b[39m\u001b[38;5;241m.\u001b[39m\u001b[38;5;21m__setattr__\u001b[39m(obj, \u001b[38;5;28mself\u001b[39m\u001b[38;5;241m.\u001b[39m_name, accessor_obj)\n",
      "File \u001b[0;32m/opt/anaconda3/lib/python3.12/site-packages/pandas/core/indexes/accessors.py:643\u001b[0m, in \u001b[0;36mCombinedDatetimelikeProperties.__new__\u001b[0;34m(cls, data)\u001b[0m\n\u001b[1;32m    640\u001b[0m \u001b[38;5;28;01melif\u001b[39;00m \u001b[38;5;28misinstance\u001b[39m(data\u001b[38;5;241m.\u001b[39mdtype, PeriodDtype):\n\u001b[1;32m    641\u001b[0m     \u001b[38;5;28;01mreturn\u001b[39;00m PeriodProperties(data, orig)\n\u001b[0;32m--> 643\u001b[0m \u001b[38;5;28;01mraise\u001b[39;00m \u001b[38;5;167;01mAttributeError\u001b[39;00m(\u001b[38;5;124m\"\u001b[39m\u001b[38;5;124mCan only use .dt accessor with datetimelike values\u001b[39m\u001b[38;5;124m\"\u001b[39m)\n",
      "\u001b[0;31mAttributeError\u001b[0m: Can only use .dt accessor with datetimelike values"
     ]
    }
   ],
   "source": [
    "import pandas as pd\n",
    "import seaborn as sns\n",
    "import matplotlib.pyplot as plt\n",
    "\n",
    "# Step 1: Parse 'Issue Date' and extract weekday name\n",
    "df[\"Weekday\"] = df[\"Issue Date\"].dt.day_name()\n",
    "\n",
    "# Step 2: Clean and parse 'Violation Time' into hour\n",
    "df[\"Violation Time Clean\"] = df[\"Violation Time\"].str.strip().str.upper()\n",
    "df[\"Violation Time Parsed\"] = pd.to_datetime(df[\"Violation Time Clean\"], format=\"%I:%M%p\", errors=\"coerce\")\n",
    "df[\"Hour\"] = df[\"Violation Time Parsed\"].dt.hour\n",
    "\n",
    "# Step 3: Drop rows with missing hour or weekday\n",
    "df_heatmap = df.dropna(subset=[\"Hour\", \"Weekday\"])\n",
    "\n",
    "# Step 4: Build pivot table: Hour (rows) × Weekday (columns), values = count\n",
    "heatmap_data = (\n",
    "    df_heatmap.groupby([\"Hour\", \"Weekday\"])\n",
    "    .size()\n",
    "    .unstack(fill_value=0)\n",
    ")\n",
    "\n",
    "# Step 5: Reorder weekdays to calendar order\n",
    "ordered_days = [\"Monday\", \"Tuesday\", \"Wednesday\", \"Thursday\", \"Friday\", \"Saturday\", \"Sunday\"]\n",
    "heatmap_data = heatmap_data.reindex(columns=ordered_days, fill_value=0)\n",
    "\n",
    "# Step 6: Plot the heatmap\n",
    "plt.figure(figsize=(12, 8))\n",
    "sns.heatmap(\n",
    "    heatmap_data,\n",
    "    cmap=\"magma_r\",  # dark = high\n",
    "    linewidths=0.5,\n",
    "    linecolor='gray',\n",
    "    cbar_kws={'label': 'Number of Violations'}\n",
    ")\n",
    "\n",
    "plt.title(\"Violation Heatmap by Hour of Day and Day of Week\")\n",
    "plt.xlabel(\"Day of Week\")\n",
    "plt.ylabel(\"Hour of Day\")\n",
    "plt.xticks(rotation=45)\n",
    "plt.yticks(rotation=0)\n",
    "plt.tight_layout()\n",
    "plt.show()\n"
   ]
  },
  {
   "cell_type": "code",
   "execution_count": 42,
   "id": "75f49c28-9164-4cd2-be91-2c4b77b7dc84",
   "metadata": {},
   "outputs": [],
   "source": [
    "### Figuring out why the code failed b/c of dtype after ETL process"
   ]
  },
  {
   "cell_type": "code",
   "execution_count": 43,
   "id": "ad3b59cc-4a56-4eee-812e-ac4c4775f88d",
   "metadata": {},
   "outputs": [
    {
     "name": "stdout",
     "output_type": "stream",
     "text": [
      "object\n"
     ]
    }
   ],
   "source": [
    "print(df[\"Issue Date\"].dtype)"
   ]
  },
  {
   "cell_type": "code",
   "execution_count": 44,
   "id": "befd6086-f1e4-4595-a5cd-5f5fe022ed1a",
   "metadata": {},
   "outputs": [],
   "source": [
    "df[\"Issue Date\"] = pd.to_datetime(df[\"Issue Date\"], errors=\"coerce\")"
   ]
  },
  {
   "cell_type": "code",
   "execution_count": 45,
   "id": "c64ebb6a-c562-479d-9a28-67ce4e678319",
   "metadata": {},
   "outputs": [
    {
     "name": "stdout",
     "output_type": "stream",
     "text": [
      "datetime64[ns]\n"
     ]
    }
   ],
   "source": [
    "print(df[\"Issue Date\"].dtype)"
   ]
  },
  {
   "cell_type": "code",
   "execution_count": 46,
   "id": "7e5fd93a-9cd2-4c0c-9dfb-86967d88619e",
   "metadata": {},
   "outputs": [],
   "source": [
    "### Back to code"
   ]
  },
  {
   "cell_type": "code",
   "execution_count": 47,
   "id": "2e1b161a-bbf3-4463-87ee-32890154d545",
   "metadata": {},
   "outputs": [
    {
     "ename": "ValueError",
     "evalue": "zero-size array to reduction operation fmin which has no identity",
     "output_type": "error",
     "traceback": [
      "\u001b[0;31m---------------------------------------------------------------------------\u001b[0m",
      "\u001b[0;31mValueError\u001b[0m                                Traceback (most recent call last)",
      "Cell \u001b[0;32mIn[47], line 28\u001b[0m\n\u001b[1;32m     26\u001b[0m \u001b[38;5;66;03m# Step 6: Plot the heatmap\u001b[39;00m\n\u001b[1;32m     27\u001b[0m plt\u001b[38;5;241m.\u001b[39mfigure(figsize\u001b[38;5;241m=\u001b[39m(\u001b[38;5;241m12\u001b[39m, \u001b[38;5;241m8\u001b[39m))\n\u001b[0;32m---> 28\u001b[0m sns\u001b[38;5;241m.\u001b[39mheatmap(\n\u001b[1;32m     29\u001b[0m     heatmap_data,\n\u001b[1;32m     30\u001b[0m     cmap\u001b[38;5;241m=\u001b[39m\u001b[38;5;124m\"\u001b[39m\u001b[38;5;124mmagma_r\u001b[39m\u001b[38;5;124m\"\u001b[39m,  \u001b[38;5;66;03m# dark = high\u001b[39;00m\n\u001b[1;32m     31\u001b[0m     linewidths\u001b[38;5;241m=\u001b[39m\u001b[38;5;241m0.5\u001b[39m,\n\u001b[1;32m     32\u001b[0m     linecolor\u001b[38;5;241m=\u001b[39m\u001b[38;5;124m'\u001b[39m\u001b[38;5;124mgray\u001b[39m\u001b[38;5;124m'\u001b[39m,\n\u001b[1;32m     33\u001b[0m     cbar_kws\u001b[38;5;241m=\u001b[39m{\u001b[38;5;124m'\u001b[39m\u001b[38;5;124mlabel\u001b[39m\u001b[38;5;124m'\u001b[39m: \u001b[38;5;124m'\u001b[39m\u001b[38;5;124mNumber of Violations\u001b[39m\u001b[38;5;124m'\u001b[39m}\n\u001b[1;32m     34\u001b[0m )\n\u001b[1;32m     36\u001b[0m plt\u001b[38;5;241m.\u001b[39mtitle(\u001b[38;5;124m\"\u001b[39m\u001b[38;5;124mViolation Heatmap by Hour of Day and Day of Week\u001b[39m\u001b[38;5;124m\"\u001b[39m)\n\u001b[1;32m     37\u001b[0m plt\u001b[38;5;241m.\u001b[39mxlabel(\u001b[38;5;124m\"\u001b[39m\u001b[38;5;124mDay of Week\u001b[39m\u001b[38;5;124m\"\u001b[39m)\n",
      "File \u001b[0;32m/opt/anaconda3/lib/python3.12/site-packages/seaborn/matrix.py:446\u001b[0m, in \u001b[0;36mheatmap\u001b[0;34m(data, vmin, vmax, cmap, center, robust, annot, fmt, annot_kws, linewidths, linecolor, cbar, cbar_kws, cbar_ax, square, xticklabels, yticklabels, mask, ax, **kwargs)\u001b[0m\n\u001b[1;32m    365\u001b[0m \u001b[38;5;250m\u001b[39m\u001b[38;5;124;03m\"\"\"Plot rectangular data as a color-encoded matrix.\u001b[39;00m\n\u001b[1;32m    366\u001b[0m \n\u001b[1;32m    367\u001b[0m \u001b[38;5;124;03mThis is an Axes-level function and will draw the heatmap into the\u001b[39;00m\n\u001b[0;32m   (...)\u001b[0m\n\u001b[1;32m    443\u001b[0m \n\u001b[1;32m    444\u001b[0m \u001b[38;5;124;03m\"\"\"\u001b[39;00m\n\u001b[1;32m    445\u001b[0m \u001b[38;5;66;03m# Initialize the plotter object\u001b[39;00m\n\u001b[0;32m--> 446\u001b[0m plotter \u001b[38;5;241m=\u001b[39m _HeatMapper(data, vmin, vmax, cmap, center, robust, annot, fmt,\n\u001b[1;32m    447\u001b[0m                       annot_kws, cbar, cbar_kws, xticklabels,\n\u001b[1;32m    448\u001b[0m                       yticklabels, mask)\n\u001b[1;32m    450\u001b[0m \u001b[38;5;66;03m# Add the pcolormesh kwargs here\u001b[39;00m\n\u001b[1;32m    451\u001b[0m kwargs[\u001b[38;5;124m\"\u001b[39m\u001b[38;5;124mlinewidths\u001b[39m\u001b[38;5;124m\"\u001b[39m] \u001b[38;5;241m=\u001b[39m linewidths\n",
      "File \u001b[0;32m/opt/anaconda3/lib/python3.12/site-packages/seaborn/matrix.py:163\u001b[0m, in \u001b[0;36m_HeatMapper.__init__\u001b[0;34m(self, data, vmin, vmax, cmap, center, robust, annot, fmt, annot_kws, cbar, cbar_kws, xticklabels, yticklabels, mask)\u001b[0m\n\u001b[1;32m    160\u001b[0m \u001b[38;5;28mself\u001b[39m\u001b[38;5;241m.\u001b[39mylabel \u001b[38;5;241m=\u001b[39m ylabel \u001b[38;5;28;01mif\u001b[39;00m ylabel \u001b[38;5;129;01mis\u001b[39;00m \u001b[38;5;129;01mnot\u001b[39;00m \u001b[38;5;28;01mNone\u001b[39;00m \u001b[38;5;28;01melse\u001b[39;00m \u001b[38;5;124m\"\u001b[39m\u001b[38;5;124m\"\u001b[39m\n\u001b[1;32m    162\u001b[0m \u001b[38;5;66;03m# Determine good default values for the colormapping\u001b[39;00m\n\u001b[0;32m--> 163\u001b[0m \u001b[38;5;28mself\u001b[39m\u001b[38;5;241m.\u001b[39m_determine_cmap_params(plot_data, vmin, vmax,\n\u001b[1;32m    164\u001b[0m                             cmap, center, robust)\n\u001b[1;32m    166\u001b[0m \u001b[38;5;66;03m# Sort out the annotations\u001b[39;00m\n\u001b[1;32m    167\u001b[0m \u001b[38;5;28;01mif\u001b[39;00m annot \u001b[38;5;129;01mis\u001b[39;00m \u001b[38;5;28;01mNone\u001b[39;00m \u001b[38;5;129;01mor\u001b[39;00m annot \u001b[38;5;129;01mis\u001b[39;00m \u001b[38;5;28;01mFalse\u001b[39;00m:\n",
      "File \u001b[0;32m/opt/anaconda3/lib/python3.12/site-packages/seaborn/matrix.py:202\u001b[0m, in \u001b[0;36m_HeatMapper._determine_cmap_params\u001b[0;34m(self, plot_data, vmin, vmax, cmap, center, robust)\u001b[0m\n\u001b[1;32m    200\u001b[0m         vmin \u001b[38;5;241m=\u001b[39m np\u001b[38;5;241m.\u001b[39mnanpercentile(calc_data, \u001b[38;5;241m2\u001b[39m)\n\u001b[1;32m    201\u001b[0m     \u001b[38;5;28;01melse\u001b[39;00m:\n\u001b[0;32m--> 202\u001b[0m         vmin \u001b[38;5;241m=\u001b[39m np\u001b[38;5;241m.\u001b[39mnanmin(calc_data)\n\u001b[1;32m    203\u001b[0m \u001b[38;5;28;01mif\u001b[39;00m vmax \u001b[38;5;129;01mis\u001b[39;00m \u001b[38;5;28;01mNone\u001b[39;00m:\n\u001b[1;32m    204\u001b[0m     \u001b[38;5;28;01mif\u001b[39;00m robust:\n",
      "File \u001b[0;32m/opt/anaconda3/lib/python3.12/site-packages/numpy/lib/nanfunctions.py:343\u001b[0m, in \u001b[0;36mnanmin\u001b[0;34m(a, axis, out, keepdims, initial, where)\u001b[0m\n\u001b[1;32m    338\u001b[0m     kwargs[\u001b[38;5;124m'\u001b[39m\u001b[38;5;124mwhere\u001b[39m\u001b[38;5;124m'\u001b[39m] \u001b[38;5;241m=\u001b[39m where\n\u001b[1;32m    340\u001b[0m \u001b[38;5;28;01mif\u001b[39;00m \u001b[38;5;28mtype\u001b[39m(a) \u001b[38;5;129;01mis\u001b[39;00m np\u001b[38;5;241m.\u001b[39mndarray \u001b[38;5;129;01mand\u001b[39;00m a\u001b[38;5;241m.\u001b[39mdtype \u001b[38;5;241m!=\u001b[39m np\u001b[38;5;241m.\u001b[39mobject_:\n\u001b[1;32m    341\u001b[0m     \u001b[38;5;66;03m# Fast, but not safe for subclasses of ndarray, or object arrays,\u001b[39;00m\n\u001b[1;32m    342\u001b[0m     \u001b[38;5;66;03m# which do not implement isnan (gh-9009), or fmin correctly (gh-8975)\u001b[39;00m\n\u001b[0;32m--> 343\u001b[0m     res \u001b[38;5;241m=\u001b[39m np\u001b[38;5;241m.\u001b[39mfmin\u001b[38;5;241m.\u001b[39mreduce(a, axis\u001b[38;5;241m=\u001b[39maxis, out\u001b[38;5;241m=\u001b[39mout, \u001b[38;5;241m*\u001b[39m\u001b[38;5;241m*\u001b[39mkwargs)\n\u001b[1;32m    344\u001b[0m     \u001b[38;5;28;01mif\u001b[39;00m np\u001b[38;5;241m.\u001b[39misnan(res)\u001b[38;5;241m.\u001b[39many():\n\u001b[1;32m    345\u001b[0m         warnings\u001b[38;5;241m.\u001b[39mwarn(\u001b[38;5;124m\"\u001b[39m\u001b[38;5;124mAll-NaN slice encountered\u001b[39m\u001b[38;5;124m\"\u001b[39m, \u001b[38;5;167;01mRuntimeWarning\u001b[39;00m,\n\u001b[1;32m    346\u001b[0m                       stacklevel\u001b[38;5;241m=\u001b[39m\u001b[38;5;241m2\u001b[39m)\n",
      "\u001b[0;31mValueError\u001b[0m: zero-size array to reduction operation fmin which has no identity"
     ]
    },
    {
     "data": {
      "text/plain": [
       "<Figure size 1200x800 with 0 Axes>"
      ]
     },
     "metadata": {},
     "output_type": "display_data"
    }
   ],
   "source": [
    "import seaborn as sns\n",
    "import matplotlib.pyplot as plt\n",
    "\n",
    "# Step 1: Parse 'Issue Date' and extract weekday name\n",
    "df[\"Weekday\"] = df[\"Issue Date\"].dt.day_name()\n",
    "\n",
    "# Step 2: Clean and parse 'Violation Time' into hour\n",
    "df[\"Violation Time Clean\"] = df[\"Violation Time\"].str.strip().str.upper()\n",
    "df[\"Violation Time Parsed\"] = pd.to_datetime(df[\"Violation Time Clean\"], format=\"%I:%M%p\", errors=\"coerce\")\n",
    "df[\"Hour\"] = df[\"Violation Time Parsed\"].dt.hour\n",
    "\n",
    "# Step 3: Drop rows with missing hour or weekday\n",
    "df_heatmap = df.dropna(subset=[\"Hour\", \"Weekday\"])\n",
    "\n",
    "# Step 4: Build pivot table: Hour (rows) × Weekday (columns), values = count\n",
    "heatmap_data = (\n",
    "    df_heatmap.groupby([\"Hour\", \"Weekday\"])\n",
    "    .size()\n",
    "    .unstack(fill_value=0)\n",
    ")\n",
    "\n",
    "# Step 5: Reorder weekdays to calendar order\n",
    "ordered_days = [\"Monday\", \"Tuesday\", \"Wednesday\", \"Thursday\", \"Friday\", \"Saturday\", \"Sunday\"]\n",
    "heatmap_data = heatmap_data.reindex(columns=ordered_days, fill_value=0)\n",
    "\n",
    "# Step 6: Plot the heatmap\n",
    "plt.figure(figsize=(12, 8))\n",
    "sns.heatmap(\n",
    "    heatmap_data,\n",
    "    cmap=\"magma_r\",  # dark = high\n",
    "    linewidths=0.5,\n",
    "    linecolor='gray',\n",
    "    cbar_kws={'label': 'Number of Violations'}\n",
    ")\n",
    "\n",
    "plt.title(\"Violation Heatmap by Hour of Day and Day of Week\")\n",
    "plt.xlabel(\"Day of Week\")\n",
    "plt.ylabel(\"Hour of Day\")\n",
    "plt.xticks(rotation=45)\n",
    "plt.yticks(rotation=0)\n",
    "plt.tight_layout()\n",
    "plt.show()"
   ]
  },
  {
   "cell_type": "code",
   "execution_count": 60,
   "id": "5865b16e-bdda-4d22-9306-75f40ab0346c",
   "metadata": {},
   "outputs": [],
   "source": [
    "### Test Weekday"
   ]
  },
  {
   "cell_type": "code",
   "execution_count": 61,
   "id": "ff7e6f68-c9d1-44d2-90da-6a9ee8d469d7",
   "metadata": {},
   "outputs": [],
   "source": [
    "df[\"Issue Date\"] = pd.to_datetime(df[\"Issue Date\"], errors=\"coerce\")\n",
    "df[\"Weekday\"] = df[\"Issue Date\"].dt.day_name()"
   ]
  },
  {
   "cell_type": "code",
   "execution_count": 62,
   "id": "2361cbcd-a103-4498-9c98-db1a2a6e325e",
   "metadata": {},
   "outputs": [
    {
     "name": "stdout",
     "output_type": "stream",
     "text": [
      "0       Sunday\n",
      "1       Monday\n",
      "2       Sunday\n",
      "3       Monday\n",
      "4       Sunday\n",
      "5       Monday\n",
      "6       Sunday\n",
      "7       Sunday\n",
      "8    Wednesday\n",
      "9       Sunday\n",
      "Name: Weekday, dtype: object\n"
     ]
    }
   ],
   "source": [
    "print(df[\"Weekday\"].head(10))"
   ]
  },
  {
   "cell_type": "code",
   "execution_count": 63,
   "id": "cd193964-0814-426a-bd15-c36ee4a8ddc8",
   "metadata": {},
   "outputs": [
    {
     "name": "stdout",
     "output_type": "stream",
     "text": [
      "Weekday\n",
      "Tuesday      2652011\n",
      "Thursday     2572472\n",
      "Friday       2562442\n",
      "Monday       2459736\n",
      "Wednesday    2384212\n",
      "Saturday     2048359\n",
      "Sunday       1592306\n",
      "NaN            42551\n",
      "Name: count, dtype: int64\n"
     ]
    }
   ],
   "source": [
    "print(df[\"Weekday\"].value_counts(dropna=False))"
   ]
  },
  {
   "cell_type": "code",
   "execution_count": 64,
   "id": "f9f439d3-21f0-4362-8611-c269537fee21",
   "metadata": {},
   "outputs": [],
   "source": [
    "### Test Day of Week"
   ]
  },
  {
   "cell_type": "code",
   "execution_count": 65,
   "id": "a866ec11-3a8f-4f2f-8fbd-fb575a8e8034",
   "metadata": {},
   "outputs": [],
   "source": [
    "# Normalize strings like \"04:10P\"\n",
    "df[\"Violation Time Clean\"] = df[\"Violation Time\"].str.strip().str.upper()\n",
    "\n",
    "# Parse time and extract hour\n",
    "df[\"Violation Time Parsed\"] = pd.to_datetime(df[\"Violation Time Clean\"], format=\"%I:%M%p\", errors=\"coerce\")\n",
    "df[\"Hour\"] = df[\"Violation Time Parsed\"].dt.hour"
   ]
  },
  {
   "cell_type": "code",
   "execution_count": 66,
   "id": "458ad498-5c6f-4c6a-96e7-7f3d283c50d0",
   "metadata": {},
   "outputs": [
    {
     "name": "stdout",
     "output_type": "stream",
     "text": [
      "Empty DataFrame\n",
      "Columns: [Violation Time, Violation Time Parsed, Hour]\n",
      "Index: []\n",
      "Missing Hour %: 100.0\n"
     ]
    }
   ],
   "source": [
    "# confirm if \"Hour\" was parsed correctly\n",
    "\n",
    "print(df[[\"Violation Time\", \"Violation Time Parsed\", \"Hour\"]].dropna().head(10))\n",
    "print(\"Missing Hour %:\", df[\"Hour\"].isna().mean() * 100)"
   ]
  },
  {
   "cell_type": "code",
   "execution_count": 67,
   "id": "df57371a-2c15-4bf6-b99e-6ace8aba2572",
   "metadata": {},
   "outputs": [
    {
     "name": "stdout",
     "output_type": "stream",
     "text": [
      "<StringArray>\n",
      "['04:10P', '03:35P', '04:18P', '04:44P', '04:57P', '06:17P', '04:13A',\n",
      " '09:43P', '01:12A', '09:46P']\n",
      "Length: 10, dtype: string\n"
     ]
    }
   ],
   "source": [
    "# Examine Raw Values \n",
    "\n",
    "print(df[\"Violation Time\"].dropna().unique()[:10])"
   ]
  },
  {
   "cell_type": "code",
   "execution_count": 68,
   "id": "1327bd5a-95e9-49db-b3f0-b475de75ce21",
   "metadata": {},
   "outputs": [],
   "source": [
    "# Step 1: Clean and fix format (turn \"04:10P\" → \"04:10PM\")\n",
    "df[\"Violation Time Clean\"] = (\n",
    "    df[\"Violation Time\"]\n",
    "    .str.strip()\n",
    "    .str.upper()\n",
    "    .str.replace(r\"([AP])$\", r\"\\1M\", regex=True)  # adds 'M' to 'A' or 'P'\n",
    ")\n",
    "\n",
    "# Step 2: Parse to datetime and extract hour\n",
    "df[\"Violation Time Parsed\"] = pd.to_datetime(df[\"Violation Time Clean\"], format=\"%I:%M%p\", errors=\"coerce\")\n",
    "df[\"Hour\"] = df[\"Violation Time Parsed\"].dt.hour"
   ]
  },
  {
   "cell_type": "code",
   "execution_count": 69,
   "id": "704d6263-c5b1-4776-8ef6-a67d6e68d7fd",
   "metadata": {},
   "outputs": [
    {
     "name": "stdout",
     "output_type": "stream",
     "text": [
      "  Violation Time Violation Time Clean Violation Time Parsed  Hour\n",
      "0         04:10P              04:10PM   1900-01-01 16:10:00  16.0\n",
      "1         03:35P              03:35PM   1900-01-01 15:35:00  15.0\n",
      "2         04:18P              04:18PM   1900-01-01 16:18:00  16.0\n",
      "3         04:44P              04:44PM   1900-01-01 16:44:00  16.0\n",
      "4         04:57P              04:57PM   1900-01-01 16:57:00  16.0\n",
      "5         06:17P              06:17PM   1900-01-01 18:17:00  18.0\n",
      "6         04:13A              04:13AM   1900-01-01 04:13:00   4.0\n",
      "7         09:43P              09:43PM   1900-01-01 21:43:00  21.0\n",
      "8         01:12A              01:12AM   1900-01-01 01:12:00   1.0\n",
      "9         09:46P              09:46PM   1900-01-01 21:46:00  21.0\n",
      "Missing Hour %: 0.21265055008587974\n"
     ]
    }
   ],
   "source": [
    "print(df[[\"Violation Time\", \"Violation Time Clean\", \"Violation Time Parsed\", \"Hour\"]].dropna().head(10))\n",
    "print(\"Missing Hour %:\", df[\"Hour\"].isna().mean() * 100)"
   ]
  },
  {
   "cell_type": "code",
   "execution_count": 70,
   "id": "53fe98f2-8e5a-487b-bde7-e7a0d4407bc7",
   "metadata": {},
   "outputs": [
    {
     "data": {
      "image/png": "[encoded data removed]",
      "text/plain": [
       "<Figure size 1200x800 with 2 Axes>"
      ]
     },
     "metadata": {},
     "output_type": "display_data"
    }
   ],
   "source": [
    "import seaborn as sns\n",
    "import matplotlib.pyplot as plt\n",
    "\n",
    "# Step 1: Drop rows missing hour or weekday\n",
    "df_heatmap = df.dropna(subset=[\"Hour\", \"Weekday\"])\n",
    "\n",
    "# Step 2: Create pivot table: Hour (rows) × Weekday (columns)\n",
    "heatmap_data = (\n",
    "    df_heatmap.groupby([\"Hour\", \"Weekday\"])\n",
    "    .size()\n",
    "    .unstack(fill_value=0)\n",
    ")\n",
    "\n",
    "# Step 3: Ensure weekdays appear in calendar order\n",
    "ordered_days = [\"Monday\", \"Tuesday\", \"Wednesday\", \"Thursday\", \"Friday\", \"Saturday\", \"Sunday\"]\n",
    "heatmap_data = heatmap_data.reindex(columns=ordered_days, fill_value=0)\n",
    "\n",
    "# Step 4: Plot heatmap\n",
    "plt.figure(figsize=(12, 8))\n",
    "sns.heatmap(\n",
    "    heatmap_data,\n",
    "    cmap=\"magma_r\",               # dark = high\n",
    "    linewidths=0.5,\n",
    "    linecolor=\"gray\",\n",
    "    cbar_kws={\"label\": \"Number of Violations\"}\n",
    ")\n",
    "\n",
    "plt.title(\"Violation Heatmap by Hour of Day and Day of Week\")\n",
    "plt.xlabel(\"Day of Week\")\n",
    "plt.ylabel(\"Hour of Day\")\n",
    "plt.xticks(rotation=45)\n",
    "plt.yticks(rotation=0)\n",
    "plt.tight_layout()\n",
    "\n",
    "# Save the figure\n",
    "plt.savefig(\"violations_heatmap.png\", dpi=300, bbox_inches='tight')  # High-res PNG\n",
    "\n",
    "plt.show()"
   ]
  },
  {
   "cell_type": "code",
   "execution_count": 71,
   "id": "ac928194-0cf6-4ee3-b46e-db1d6226fb71",
   "metadata": {},
   "outputs": [
    {
     "name": "stdout",
     "output_type": "stream",
     "text": [
      "<class 'pandas.core.frame.DataFrame'>\n",
      "Index: 16236850 entries, 0 to 16314088\n",
      "Data columns (total 16 columns):\n",
      " #   Column                 Dtype         \n",
      "---  ------                 -----         \n",
      " 0   Plate                  category      \n",
      " 1   State                  category      \n",
      " 2   License Type           category      \n",
      " 3   Summons Number         int64         \n",
      " 4   Issue Date             datetime64[ns]\n",
      " 5   Violation Time         string        \n",
      " 6   Violation              category      \n",
      " 7   Fine Amount            float32       \n",
      " 8   Amount Due             float32       \n",
      " 9   Precinct               int64         \n",
      " 10  County                 category      \n",
      " 11  Issuing Agency         category      \n",
      " 12  Weekday                object        \n",
      " 13  Violation Time Clean   string        \n",
      " 14  Violation Time Parsed  datetime64[ns]\n",
      " 15  Hour                   float64       \n",
      "dtypes: category(6), datetime64[ns](2), float32(2), float64(1), int64(2), object(1), string(2)\n",
      "memory usage: 1.5+ GB\n"
     ]
    }
   ],
   "source": [
    "# Get info on data\n",
    "df_heatmap.info()"
   ]
  },
  {
   "cell_type": "code",
   "execution_count": 84,
   "id": "ec9dd39b-e4b9-447f-b541-aa0019495417",
   "metadata": {},
   "outputs": [
    {
     "data": {
      "text/html": [
       "<div>\n",
       "<style scoped>\n",
       "    .dataframe tbody tr th:only-of-type {\n",
       "        vertical-align: middle;\n",
       "    }\n",
       "\n",
       "    .dataframe tbody tr th {\n",
       "        vertical-align: top;\n",
       "    }\n",
       "\n",
       "    .dataframe thead th {\n",
       "        text-align: right;\n",
       "    }\n",
       "</style>\n",
       "<table border=\"1\" class=\"dataframe\">\n",
       "  <thead>\n",
       "    <tr style=\"text-align: right;\">\n",
       "      <th></th>\n",
       "      <th>Weekday</th>\n",
       "      <th>Hour</th>\n",
       "      <th>Violation Count</th>\n",
       "    </tr>\n",
       "  </thead>\n",
       "  <tbody>\n",
       "    <tr>\n",
       "      <th>0</th>\n",
       "      <td>Monday</td>\n",
       "      <td>0.0</td>\n",
       "      <td>28873</td>\n",
       "    </tr>\n",
       "    <tr>\n",
       "      <th>1</th>\n",
       "      <td>Monday</td>\n",
       "      <td>1.0</td>\n",
       "      <td>29426</td>\n",
       "    </tr>\n",
       "    <tr>\n",
       "      <th>2</th>\n",
       "      <td>Monday</td>\n",
       "      <td>2.0</td>\n",
       "      <td>21539</td>\n",
       "    </tr>\n",
       "    <tr>\n",
       "      <th>3</th>\n",
       "      <td>Monday</td>\n",
       "      <td>3.0</td>\n",
       "      <td>17953</td>\n",
       "    </tr>\n",
       "    <tr>\n",
       "      <th>4</th>\n",
       "      <td>Monday</td>\n",
       "      <td>4.0</td>\n",
       "      <td>18490</td>\n",
       "    </tr>\n",
       "  </tbody>\n",
       "</table>\n",
       "</div>"
      ],
      "text/plain": [
       "  Weekday  Hour  Violation Count\n",
       "0  Monday   0.0            28873\n",
       "1  Monday   1.0            29426\n",
       "2  Monday   2.0            21539\n",
       "3  Monday   3.0            17953\n",
       "4  Monday   4.0            18490"
      ]
     },
     "execution_count": 84,
     "metadata": {},
     "output_type": "execute_result"
    }
   ],
   "source": [
    "# create summary\n",
    "\n",
    "# Step 1: Drop rows with missing Hour or Weekday\n",
    "df_model = df.dropna(subset=[\"Hour\", \"Weekday\"])\n",
    "\n",
    "# Step 2: Group by Weekday and Hour, count violations\n",
    "violation_summary = (\n",
    "    df_model.groupby([\"Weekday\", \"Hour\"])\n",
    "    .size()\n",
    "    .reset_index(name=\"Violation Count\")\n",
    ")\n",
    "\n",
    "# Step 3: Ensure weekday ordering for readability\n",
    "weekday_order = [\"Monday\", \"Tuesday\", \"Wednesday\", \"Thursday\", \"Friday\", \"Saturday\", \"Sunday\"]\n",
    "violation_summary[\"Weekday\"] = pd.Categorical(violation_summary[\"Weekday\"], categories=weekday_order, ordered=True)\n",
    "\n",
    "# Step 4: Sort final table\n",
    "violation_summary = violation_summary.sort_values(by=[\"Weekday\", \"Hour\"]).reset_index(drop=True)\n",
    "\n",
    "# Preview\n",
    "violation_summary.head()"
   ]
  },
  {
   "cell_type": "code",
   "execution_count": 86,
   "id": "11f58921-b7bb-433c-9dba-00771ee9f211",
   "metadata": {},
   "outputs": [
    {
     "name": "stdout",
     "output_type": "stream",
     "text": [
      "✅ 3 Best Times to Travel (Fewest Violations):\n",
      "      Weekday  Hour  Violation Count\n",
      "52  Wednesday   4.0            14735\n",
      "28    Tuesday   4.0            14984\n",
      "76   Thursday   4.0            15582\n",
      "\n",
      "🚫 3 Worst Times to Travel (Most Violations):\n",
      "     Weekday  Hour  Violation Count\n",
      "33   Tuesday   9.0           262198\n",
      "35   Tuesday  11.0           261179\n",
      "105   Friday   9.0           246847\n"
     ]
    }
   ],
   "source": [
    "## Simple Descriptive Ranking\n",
    "\n",
    "# Step 1: Sort by Violation Count\n",
    "sorted_violations = violation_summary.sort_values(by=\"Violation Count\")\n",
    "\n",
    "# Step 2: Get best 3 times (least violations)\n",
    "best_times = sorted_violations.head(3)\n",
    "\n",
    "# Step 3: Get worst 3 times (most violations)\n",
    "worst_times = sorted_violations.tail(3).sort_values(by=\"Violation Count\", ascending=False)\n",
    "\n",
    "# Display results\n",
    "print(\"✅ 3 Best Times to Travel (Fewest Violations):\")\n",
    "print(best_times)\n",
    "\n",
    "print(\"\\n🚫 3 Worst Times to Travel (Most Violations):\")\n",
    "print(worst_times)"
   ]
  },
  {
   "cell_type": "code",
   "execution_count": 90,
   "id": "c3c8bcd8-9afb-4a94-8445-7d5c16cde059",
   "metadata": {},
   "outputs": [
    {
     "name": "stdout",
     "output_type": "stream",
     "text": [
      "                 Generalized Linear Model Regression Results                  \n",
      "==============================================================================\n",
      "Dep. Variable:        Violation_Count   No. Observations:                  168\n",
      "Model:                            GLM   Df Residuals:                      160\n",
      "Model Family:                 Poisson   Df Model:                            7\n",
      "Link Function:                    Log   Scale:                          1.0000\n",
      "Method:                          IRLS   Log-Likelihood:            -4.0844e+06\n",
      "Date:                Wed, 14 May 2025   Deviance:                   8.1665e+06\n",
      "Time:                        19:32:40   Pearson chi2:                 8.09e+06\n",
      "No. Iterations:                     5   Pseudo R-squ. (CS):              1.000\n",
      "Covariance Type:            nonrobust                                         \n",
      "===========================================================================================\n",
      "                              coef    std err          z      P>|z|      [0.025      0.975]\n",
      "-------------------------------------------------------------------------------------------\n",
      "Intercept                  11.4408      0.001   1.49e+04      0.000      11.439      11.442\n",
      "C(Weekday)[T.Tuesday]       0.0742      0.001     83.739      0.000       0.072       0.076\n",
      "C(Weekday)[T.Wednesday]    -0.0338      0.001    -37.169      0.000      -0.036      -0.032\n",
      "C(Weekday)[T.Thursday]      0.0424      0.001     47.528      0.000       0.041       0.044\n",
      "C(Weekday)[T.Friday]        0.0383      0.001     42.911      0.000       0.037       0.040\n",
      "C(Weekday)[T.Saturday]     -0.1859      0.001   -196.309      0.000      -0.188      -0.184\n",
      "C(Weekday)[T.Sunday]       -0.4365      0.001   -428.844      0.000      -0.438      -0.434\n",
      "Hour                        0.0082   3.59e-05    229.819      0.000       0.008       0.008\n",
      "===========================================================================================\n"
     ]
    }
   ],
   "source": [
    "## Create a Poisson Regression Model and test significance (attempt 1)\n",
    "\n",
    "import statsmodels.api as sm\n",
    "import statsmodels.formula.api as smf\n",
    "\n",
    "# Step 1: Rename column to remove space\n",
    "df_poisson = violation_summary.rename(columns={\"Violation Count\": \"Violation_Count\"}).copy()\n",
    "\n",
    "# Step 2: Ensure weekday is categorical\n",
    "df_poisson[\"Weekday\"] = df_poisson[\"Weekday\"].astype(\"category\")\n",
    "\n",
    "# Step 3: Fit Poisson model\n",
    "poisson_model = smf.glm(\n",
    "    formula=\"Violation_Count ~ C(Weekday) + Hour\",\n",
    "    data=df_poisson,\n",
    "    family=sm.families.Poisson()\n",
    ").fit()\n",
    "\n",
    "# Step 4: Print summary\n",
    "print(poisson_model.summary())"
   ]
  },
  {
   "cell_type": "code",
   "execution_count": 92,
   "id": "13dac729-0cb2-4558-92e6-6f784986c173",
   "metadata": {},
   "outputs": [
    {
     "name": "stdout",
     "output_type": "stream",
     "text": [
      "Intercept                  93038.124373\n",
      "C(Weekday)[T.Tuesday]          1.076976\n",
      "C(Weekday)[T.Wednesday]        0.966758\n",
      "C(Weekday)[T.Thursday]         1.043327\n",
      "C(Weekday)[T.Friday]           1.039077\n",
      "C(Weekday)[T.Saturday]         0.830390\n",
      "C(Weekday)[T.Sunday]           0.646318\n",
      "Hour                           1.008282\n",
      "dtype: float64\n"
     ]
    }
   ],
   "source": [
    "import numpy as np\n",
    "\n",
    "# Exponentiate to get multiplicative effects\n",
    "exp_coefs = np.exp(poisson_model.params)\n",
    "print(exp_coefs)"
   ]
  },
  {
   "cell_type": "code",
   "execution_count": 94,
   "id": "59949161-c19d-4794-99d1-9638d2a864f1",
   "metadata": {},
   "outputs": [
    {
     "name": "stdout",
     "output_type": "stream",
     "text": [
      "                 Generalized Linear Model Regression Results                  \n",
      "==============================================================================\n",
      "Dep. Variable:        Violation_Count   No. Observations:                  168\n",
      "Model:                            GLM   Df Residuals:                      157\n",
      "Model Family:                 Poisson   Df Model:                           10\n",
      "Link Function:                    Log   Scale:                          1.0000\n",
      "Method:                          IRLS   Log-Likelihood:            -1.1140e+06\n",
      "Date:                Wed, 14 May 2025   Deviance:                   2.2259e+06\n",
      "Time:                        19:55:20   Pearson chi2:                 2.08e+06\n",
      "No. Iterations:                     6   Pseudo R-squ. (CS):              1.000\n",
      "Covariance Type:            nonrobust                                         \n",
      "=============================================================================================\n",
      "                                coef    std err          z      P>|z|      [0.025      0.975]\n",
      "---------------------------------------------------------------------------------------------\n",
      "Intercept                    10.2069      0.001   8438.100      0.000      10.205      10.209\n",
      "C(Weekday)[T.Tuesday]         0.0742      0.001     83.739      0.000       0.072       0.076\n",
      "C(Weekday)[T.Wednesday]      -0.0338      0.001    -37.169      0.000      -0.036      -0.032\n",
      "C(Weekday)[T.Thursday]        0.0424      0.001     47.528      0.000       0.041       0.044\n",
      "C(Weekday)[T.Friday]          0.0383      0.001     42.911      0.000       0.037       0.040\n",
      "C(Weekday)[T.Saturday]       -0.1859      0.001   -196.309      0.000      -0.188      -0.184\n",
      "C(Weekday)[T.Sunday]         -0.4365      0.001   -428.844      0.000      -0.438      -0.434\n",
      "C(TimeOfDay)[T.Morning]       1.6009      0.001   1381.121      0.000       1.599       1.603\n",
      "C(TimeOfDay)[T.Afternoon]     1.9595      0.001   1734.914      0.000       1.957       1.962\n",
      "C(TimeOfDay)[T.Evening]       1.3204      0.001   1109.360      0.000       1.318       1.323\n",
      "C(TimeOfDay)[T.Night]         0.5278      0.001    378.671      0.000       0.525       0.531\n",
      "=============================================================================================\n"
     ]
    }
   ],
   "source": [
    "## New Model with binned 'Hours' column\n",
    "\n",
    "# Step 1: Make a copy and rename column\n",
    "df_binned = violation_summary.rename(columns={\"Violation Count\": \"Violation_Count\"}).copy()\n",
    "\n",
    "# Step 2: Create time-of-day bins\n",
    "def bin_hour(hour):\n",
    "    if 0 <= hour <= 4:\n",
    "        return \"Overnight\"\n",
    "    elif 5 <= hour <= 9:\n",
    "        return \"Morning\"\n",
    "    elif 10 <= hour <= 14:\n",
    "        return \"Afternoon\"\n",
    "    elif 15 <= hour <= 19:\n",
    "        return \"Evening\"\n",
    "    elif 20 <= hour <= 23:\n",
    "        return \"Night\"\n",
    "    else:\n",
    "        return \"Unknown\"\n",
    "\n",
    "df_binned[\"TimeOfDay\"] = df_binned[\"Hour\"].astype(int).apply(bin_hour)\n",
    "df_binned[\"TimeOfDay\"] = pd.Categorical(df_binned[\"TimeOfDay\"], categories=[\"Overnight\", \"Morning\", \"Afternoon\", \"Evening\", \"Night\"], ordered=True)\n",
    "df_binned[\"Weekday\"] = df_binned[\"Weekday\"].astype(\"category\")\n",
    "\n",
    "# Step 3: Fit the model using Weekday and TimeOfDay as categorical predictors\n",
    "poisson_model_binned = smf.glm(\n",
    "    formula=\"Violation_Count ~ C(Weekday) + C(TimeOfDay)\",\n",
    "    data=df_binned,\n",
    "    family=sm.families.Poisson()\n",
    ").fit()\n",
    "\n",
    "# Step 4: Show summary\n",
    "print(poisson_model_binned.summary())\n"
   ]
  },
  {
   "cell_type": "code",
   "execution_count": 96,
   "id": "df3dbf51-c7e5-45a8-a1b4-6153a610f8e1",
   "metadata": {},
   "outputs": [
    {
     "name": "stdout",
     "output_type": "stream",
     "text": [
      "Intercept                    27090.101804\n",
      "C(Weekday)[T.Tuesday]            1.076976\n",
      "C(Weekday)[T.Wednesday]          0.966758\n",
      "C(Weekday)[T.Thursday]           1.043327\n",
      "C(Weekday)[T.Friday]             1.039077\n",
      "C(Weekday)[T.Saturday]           0.830390\n",
      "C(Weekday)[T.Sunday]             0.646318\n",
      "C(TimeOfDay)[T.Morning]          4.957689\n",
      "C(TimeOfDay)[T.Afternoon]        7.095950\n",
      "C(TimeOfDay)[T.Evening]          3.744960\n",
      "C(TimeOfDay)[T.Night]            1.695168\n",
      "dtype: float64\n"
     ]
    }
   ],
   "source": [
    "## Get standarized coefficients\n",
    "\n",
    "import numpy as np\n",
    "\n",
    "# Exponentiate to get multiplicative effects\n",
    "exp_coefs_binned = np.exp(poisson_model_binned.params)\n",
    "print(exp_coefs_binned)"
   ]
  }
 ],
 "metadata": {
  "kernelspec": {
   "display_name": "Python [conda env:base] *",
   "language": "python",
   "name": "conda-base-py"
  },
  "language_info": {
   "codemirror_mode": {
    "name": "ipython",
    "version": 3
   },
   "file_extension": ".py",
   "mimetype": "text/x-python",
   "name": "python",
   "nbconvert_exporter": "python",
   "pygments_lexer": "ipython3",
   "version": "3.12.7"
  }
 },
 "nbformat": 4,
 "nbformat_minor": 5
}
